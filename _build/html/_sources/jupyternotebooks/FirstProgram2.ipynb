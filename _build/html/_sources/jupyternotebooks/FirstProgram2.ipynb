{
 "cells": [
  {
   "cell_type": "markdown",
   "id": "1747268e",
   "metadata": {},
   "source": [
    "# First C++ program.\n",
    "\n",
    "Type the following code into the empty code window below.\n",
    "Please type the code exactly as shown. \n",
    "TIP computers cannot correct your mistakes for you!! \n",
    "\n",
    "```{code} c++\n",
    ":label: Code1\n",
    ":caption: Hello World program.\n",
    ":linenos: \n",
    ":emphasize-lines: 4\n",
    "\n",
    "#include <iostream>\n",
    "int main()\n",
    "{\n",
    "\tstd :: cout << \"Hello, World!\\n\";\n",
    "\treturn 0;\n",
    "}\n",
    "```\n",
    "\n",
    "In @Code1 the highlighted statement is the code that the programmer actually wants implemented - everything else is ...\n",
    "\n",
    "\n",
    "\n",
    "```{tip}\n",
    "To run a code block that has been edited, select the block (mouse click inside it), then simulaneously press {kbd}`Shift` + {kbd}`Enter`. \n",
    "```"
   ]
  },
  {
   "cell_type": "code",
   "execution_count": 1,
   "id": "747fbfe3",
   "metadata": {
    "tags": [
     "mytag"
    ]
   },
   "outputs": [
    {
     "data": {
      "text/markdown": [
       "Hello, World!\r\n",
       "\r\n"
      ]
     },
     "metadata": {},
     "output_type": "display_data"
    }
   ],
   "source": [
    "#include <iostream>\n",
    "int main()\n",
    "{\n",
    "\tstd :: cout << \"Hello, World!\\n\";\n",
    "\treturn 0;\n",
    "}"
   ]
  },
  {
   "cell_type": "markdown",
   "id": "5f65a5b3",
   "metadata": {},
   "source": [
    "````{tip} Exercise\n",
    ":class: dropdown\n",
    "Add or remove spaces anywhere in your code and run the code again. \\\n",
    "Or try somthing else\\\n",
    "or something other\n",
    "\n",
    "```{note} Solutions \n",
    ":class: dropdown\n",
    "1. answer 1\n",
    "2. answer 2\n",
    "- list q\n",
    "- list b\n",
    "```\n",
    "````"
   ]
  }
 ],
 "metadata": {
  "jupytext": {
   "formats": "md:myst",
   "text_representation": {
    "extension": ".md",
    "format_name": "myst"
   }
  },
  "kernelspec": {
   "display_name": "C++ 20",
   "language": "c++",
   "name": "cpp20"
  },
  "language_info": {
   "file_extension": ".cpp",
   "mimetype": "text/markdown",
   "name": "C++",
   "version": "1.0.0a9"
  },
  "source_map": [
   11,
   42,
   50
  ]
 },
 "nbformat": 4,
 "nbformat_minor": 5
}